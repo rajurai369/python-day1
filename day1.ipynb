{
 "cells": [
  {
   "cell_type": "code",
   "execution_count": 2,
   "id": "96d1591b-7a0a-4f0f-8a25-a03012afaf4a",
   "metadata": {},
   "outputs": [
    {
     "name": "stdout",
     "output_type": "stream",
     "text": [
      "Hello World\n",
      "10\n",
      "24\n",
      "5.0\n",
      "2\n",
      "0\n"
     ]
    }
   ],
   "source": [
    "# hash sign simple means commenting on the code. which can help the coder to work in flow\n",
    "# Python is very important programming lanaguage which is for ML,DS,DL,Physics etc.\n",
    "# Lets learn python and complete our 100 days challenges.\n",
    "print(\"Hello World\") # print() is in built function which can print/give output\n",
    "print(4+6) # Additon \n",
    "print(4*6) # Multiplication\n",
    "print(10/2) # Division\n",
    "print(10//4) # Divide but only no decimal \n",
    "print(10%2) # Remainder"
   ]
  },
  {
   "cell_type": "code",
   "execution_count": 4,
   "id": "b06d5820-cee3-41a8-8976-6177069d1a08",
   "metadata": {},
   "outputs": [
    {
     "name": "stdout",
     "output_type": "stream",
     "text": [
      "5\n",
      "Raju\n",
      "6.7\n",
      "10\n",
      "Sita \n",
      "6.7\n"
     ]
    }
   ],
   "source": [
    "# Now in above we discuss about the comment and print() function now lets dirt our hand withe variabls\n",
    "# Variable : Variable is simple meaning container where we can store the any kind of data( int, float, complex, str etc)\n",
    "# example \n",
    "x=5 # Her x is storing the interger number 5 \n",
    "y= \"Raju\" # Here y is storing the string valuee Raju\n",
    "z=6.7 # z is storing the float or decimal value here \n",
    "# intead of x,y,z you can use any other variable name. likw \n",
    "number =10 \n",
    "name=\"Sita \"\n",
    "decimal_number=6.7 \n",
    "# In above example x,y,z, number , name,decimal_number stoing the some values so these are called the variables. lets print theme using print() function \n",
    "print(x)\n",
    "print(y)\n",
    "print(z)\n",
    "print(number)\n",
    "print(name)\n",
    "print(decimal_number)\n",
    "\n"
   ]
  }
 ],
 "metadata": {
  "kernelspec": {
   "display_name": "Python 3 (ipykernel)",
   "language": "python",
   "name": "python3"
  },
  "language_info": {
   "codemirror_mode": {
    "name": "ipython",
    "version": 3
   },
   "file_extension": ".py",
   "mimetype": "text/x-python",
   "name": "python",
   "nbconvert_exporter": "python",
   "pygments_lexer": "ipython3",
   "version": "3.11.7"
  }
 },
 "nbformat": 4,
 "nbformat_minor": 5
}
